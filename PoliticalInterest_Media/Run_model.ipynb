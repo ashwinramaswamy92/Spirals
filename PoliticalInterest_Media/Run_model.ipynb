{
 "cells": [
  {
   "cell_type": "code",
   "execution_count": 1,
   "id": "e3d153fb-7d4f-4775-901d-220ad693ad65",
   "metadata": {
    "tags": []
   },
   "outputs": [
    {
     "ename": "ModuleNotFoundError",
     "evalue": "No module named 'pyNetLogo'",
     "output_type": "error",
     "traceback": [
      "\u001b[1;31m---------------------------------------------------------------------------\u001b[0m",
      "\u001b[1;31mModuleNotFoundError\u001b[0m                       Traceback (most recent call last)",
      "Cell \u001b[1;32mIn[1], line 1\u001b[0m\n\u001b[1;32m----> 1\u001b[0m \u001b[38;5;28;01mfrom\u001b[39;00m \u001b[38;5;21;01mpyNetLogo\u001b[39;00m \u001b[38;5;28;01mimport\u001b[39;00m NetLogoLink\n\u001b[0;32m      2\u001b[0m nl \u001b[38;5;241m=\u001b[39m NetLogoLink()\n\u001b[0;32m      4\u001b[0m nl\u001b[38;5;241m.\u001b[39mload_model(\u001b[38;5;124m\"\u001b[39m\u001b[38;5;124mmodel.nlogo\u001b[39m\u001b[38;5;124m\"\u001b[39m)\n",
      "\u001b[1;31mModuleNotFoundError\u001b[0m: No module named 'pyNetLogo'"
     ]
    }
   ],
   "source": [
    "from pyNetLogo import NetLogoLink\n",
    "nl = NetLogoLink()\n",
    "\n",
    "nl.load_model(\"model.nlogo\")\n",
    "nl.command(\"setup\")\n",
    "\n",
    "for _ in range(1000):  # Run 1000 ticks\n",
    "    nl.command(\"go\")\n",
    "    # Extract data without visualization\n",
    "    opinions = nl.report(\"[own-opinion] of agents\")\n",
    "    # Process/store data here\n",
    "\n",
    "nl.kill_workspace()\n"
   ]
  }
 ],
 "metadata": {
  "kernelspec": {
   "display_name": "Python 3 (ipykernel)",
   "language": "python",
   "name": "python3"
  },
  "language_info": {
   "codemirror_mode": {
    "name": "ipython",
    "version": 3
   },
   "file_extension": ".py",
   "mimetype": "text/x-python",
   "name": "python",
   "nbconvert_exporter": "python",
   "pygments_lexer": "ipython3",
   "version": "3.11.7"
  }
 },
 "nbformat": 4,
 "nbformat_minor": 5
}
